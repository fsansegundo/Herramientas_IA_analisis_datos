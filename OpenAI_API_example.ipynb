{
 "cells": [
  {
   "cell_type": "markdown",
   "id": "bca746e2",
   "metadata": {},
   "source": [
    "# OpenAI API example"
   ]
  },
  {
   "cell_type": "markdown",
   "id": "4cef2b39",
   "metadata": {},
   "source": [
    "Uncomment and run the following lines to install the required packages"
   ]
  },
  {
   "cell_type": "code",
   "execution_count": 21,
   "id": "d427762d",
   "metadata": {},
   "outputs": [],
   "source": [
    "#!pip install openai\n",
    "#!pip install dotenv"
   ]
  },
  {
   "cell_type": "code",
   "execution_count": 22,
   "id": "b0fd4fee",
   "metadata": {},
   "outputs": [],
   "source": [
    "import openai\n",
    "from dotenv import load_dotenv\n",
    "import os\n"
   ]
  },
  {
   "cell_type": "code",
   "execution_count": 23,
   "id": "226ff827",
   "metadata": {},
   "outputs": [
    {
     "name": "stdout",
     "output_type": "stream",
     "text": [
      "Environment variables are read OK!\n",
      "If you need to set additional ones add them to config.env\n"
     ]
    }
   ],
   "source": [
    "\n",
    "# Load environment variables from .env files\n",
    "\n",
    "# This one is for PRIVATE keys. Make sure it is not shared publicly (e.g. use gitignore).\n",
    "dotenv=load_dotenv(dotenv_path=\"00_PRIVATE.env\")\n",
    "\n",
    "# This one is for publicly available configuration variables.\n",
    "dotenv=load_dotenv(dotenv_path=\"config.env\")\n",
    "\n",
    "print(os.getenv(\"TEST_ENVVARS\"))\n"
   ]
  },
  {
   "cell_type": "code",
   "execution_count": 24,
   "id": "791e7200",
   "metadata": {},
   "outputs": [],
   "source": [
    "# Get the API key from environment variable\n",
    "openai.api_key = os.getenv(\"OPENAI_API_KEY\")"
   ]
  },
  {
   "cell_type": "markdown",
   "id": "a57a4d22",
   "metadata": {},
   "source": [
    "# Open a connection to the OpenAI API"
   ]
  },
  {
   "cell_type": "code",
   "execution_count": 25,
   "id": "206b5a8b",
   "metadata": {},
   "outputs": [],
   "source": [
    "import openai \n",
    "\n",
    "client = openai.OpenAI()"
   ]
  },
  {
   "cell_type": "markdown",
   "id": "829238bf",
   "metadata": {},
   "source": [
    "Let us get a list of available models. Only the first 7 will be printed to avoid cluttering the output."
   ]
  },
  {
   "cell_type": "code",
   "execution_count": 26,
   "id": "f79d0fae",
   "metadata": {},
   "outputs": [
    {
     "name": "stdout",
     "output_type": "stream",
     "text": [
      "Model(id='gpt-4-0613', created=1686588896, object='model', owned_by='openai')\n",
      "Model(id='gpt-4', created=1687882411, object='model', owned_by='openai')\n",
      "Model(id='gpt-3.5-turbo', created=1677610602, object='model', owned_by='openai')\n",
      "Model(id='o4-mini-deep-research-2025-06-26', created=1750866121, object='model', owned_by='system')\n",
      "Model(id='codex-mini-latest', created=1746673257, object='model', owned_by='system')\n",
      "Model(id='gpt-4o-realtime-preview-2025-06-03', created=1748907838, object='model', owned_by='system')\n",
      "Model(id='gpt-4o-audio-preview-2025-06-03', created=1748908498, object='model', owned_by='system')\n"
     ]
    }
   ],
   "source": [
    "models = client.models.list()\n",
    "\n",
    "for model in models.data[:7]:\n",
    "  print(model)"
   ]
  },
  {
   "cell_type": "markdown",
   "id": "6681c1c7",
   "metadata": {},
   "source": [
    "# Basic example of a prompt to classify the sentiment of a text"
   ]
  },
  {
   "cell_type": "markdown",
   "id": "2d15c9fc",
   "metadata": {},
   "source": [
    "+ First we use Python to create a prompt that will be sent to the OpenAI API. \n",
    "\n",
    "+ The prompt is a string that contains the text to be classified, the task to be performed, and the format of the answer.\n",
    "\n",
    "+ It is very important to specify the format of the answer, as it will help the model to understand what is expected, and avoid unnecessary token processing with the associated costs."
   ]
  },
  {
   "cell_type": "code",
   "execution_count": 27,
   "id": "d6a0450d",
   "metadata": {},
   "outputs": [],
   "source": [
    "task = 'Is the sentiment positive or negative?'\n",
    "answer_format = 'Answer (\"Positive\"/\"Negative\")'"
   ]
  },
  {
   "cell_type": "markdown",
   "id": "23d9bfb7",
   "metadata": {},
   "source": [
    "Let us consider two very simple examples:"
   ]
  },
  {
   "cell_type": "code",
   "execution_count": 28,
   "id": "c65600d9",
   "metadata": {},
   "outputs": [],
   "source": [
    "text_neg = \"Worst customer service ever. I will never buy from this company again.\"\n",
    "text_pos = \"Best customer service ever. I will definitely buy from this company again.\""
   ]
  },
  {
   "cell_type": "markdown",
   "id": "9011abf0",
   "metadata": {},
   "source": [
    "The corresponding prompts are:"
   ]
  },
  {
   "cell_type": "code",
   "execution_count": 29,
   "id": "50beda73",
   "metadata": {},
   "outputs": [
    {
     "data": {
      "text/plain": [
       "'Best customer service ever. I will definitely buy from this company again.\\nIs the sentiment positive or negative?\\nAnswer (\"Positive\"/\"Negative\")'"
      ]
     },
     "execution_count": 29,
     "metadata": {},
     "output_type": "execute_result"
    }
   ],
   "source": [
    "prompt_pos =  f'{text_pos}\\n{task}\\n{answer_format}'\n",
    "prompt_pos"
   ]
  },
  {
   "cell_type": "code",
   "execution_count": 32,
   "id": "ccbf58dc",
   "metadata": {},
   "outputs": [
    {
     "data": {
      "text/plain": [
       "'Worst customer service ever. I will never buy from this company again.\\nIs the sentiment positive or negative?\\nAnswer (\"Positive\"/\"Negative\")'"
      ]
     },
     "execution_count": 32,
     "metadata": {},
     "output_type": "execute_result"
    }
   ],
   "source": [
    "prompt_neg =  f'{text_neg}\\n{task}\\n{answer_format}'\n",
    "prompt_neg"
   ]
  },
  {
   "cell_type": "markdown",
   "id": "43c104c1",
   "metadata": {},
   "source": [
    "Now to get the model to classify the sentiment of the text, we will use the OpenAI API. The following doce block is the one for which we are actually charged, so it is important to keep it as simple as possible.\n",
    "\n",
    "You need a valid OpenAI API key to run the following code. You can get one from \n",
    "\n",
    "[https://platform.openai.com/signup](https://platform.openai.com/signup) (payment info required). \n",
    "\n",
    "And you can track your expenses here:\n",
    "\n",
    "[https://platform.openai.com/usage](https://platform.openai.com/usage)"
   ]
  },
  {
   "cell_type": "code",
   "execution_count": 30,
   "id": "59ad5e7a",
   "metadata": {},
   "outputs": [],
   "source": [
    "response_pos = client.chat.completions.create(\n",
    "                model='gpt-4o',\n",
    "                messages=[{'role':'user', 'content':prompt_pos}])"
   ]
  },
  {
   "cell_type": "code",
   "execution_count": 31,
   "id": "733ce78a",
   "metadata": {},
   "outputs": [
    {
     "data": {
      "text/plain": [
       "'Positive'"
      ]
     },
     "execution_count": 31,
     "metadata": {},
     "output_type": "execute_result"
    }
   ],
   "source": [
    "response_pos.choices[0].message.content"
   ]
  },
  {
   "cell_type": "markdown",
   "id": "eaaca64c",
   "metadata": {},
   "source": [
    "Similarly for the negative sentiment example:"
   ]
  },
  {
   "cell_type": "code",
   "execution_count": 33,
   "id": "ca218f8e",
   "metadata": {},
   "outputs": [],
   "source": [
    "response_neg = client.chat.completions.create(\n",
    "                model='gpt-4o',\n",
    "                messages=[{'role':'user', 'content':prompt_neg}])"
   ]
  },
  {
   "cell_type": "code",
   "execution_count": 34,
   "id": "1f4c90a2",
   "metadata": {},
   "outputs": [
    {
     "data": {
      "text/plain": [
       "'Negative'"
      ]
     },
     "execution_count": 34,
     "metadata": {},
     "output_type": "execute_result"
    }
   ],
   "source": [
    "response_neg.choices[0].message.content"
   ]
  },
  {
   "cell_type": "code",
   "execution_count": null,
   "id": "61774127",
   "metadata": {},
   "outputs": [],
   "source": []
  }
 ],
 "metadata": {
  "kernelspec": {
   "display_name": "eda_ia",
   "language": "python",
   "name": "python3"
  },
  "language_info": {
   "codemirror_mode": {
    "name": "ipython",
    "version": 3
   },
   "file_extension": ".py",
   "mimetype": "text/x-python",
   "name": "python",
   "nbconvert_exporter": "python",
   "pygments_lexer": "ipython3",
   "version": "3.9.23"
  }
 },
 "nbformat": 4,
 "nbformat_minor": 5
}
